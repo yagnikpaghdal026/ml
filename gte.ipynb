{
 "cells": [
  {
   "cell_type": "markdown",
   "id": "6c3ca4f4",
   "metadata": {},
   "source": [
    "##getting started"
   ]
  },
  {
   "cell_type": "code",
   "execution_count": 1,
   "id": "d196c63e",
   "metadata": {},
   "outputs": [],
   "source": [
    "import mlflow"
   ]
  },
  {
   "cell_type": "code",
   "execution_count": 2,
   "id": "418b21e2",
   "metadata": {},
   "outputs": [],
   "source": [
    "mlflow.set_tracking_uri(\"http://127.0.0.1:5000\")"
   ]
  },
  {
   "cell_type": "code",
   "execution_count": 4,
   "id": "5ff9f2c3",
   "metadata": {},
   "outputs": [
    {
     "name": "stdout",
     "output_type": "stream",
     "text": [
      "🏃 View run casual-trout-948 at: http://127.0.0.1:5000/#/experiments/976071524472623941/runs/7e42735f9013446fb6b3762d49d7d057\n",
      "🧪 View experiment at: http://127.0.0.1:5000/#/experiments/976071524472623941\n"
     ]
    }
   ],
   "source": [
    "mlflow.set_experiment(\"check local host\")\n",
    "with mlflow.start_run():\n",
    "     mlflow.log_metric(\"test\",1)"
   ]
  },
  {
   "cell_type": "code",
   "execution_count": null,
   "id": "06420710",
   "metadata": {},
   "outputs": [],
   "source": []
  }
 ],
 "metadata": {
  "kernelspec": {
   "display_name": ".venv",
   "language": "python",
   "name": "python3"
  },
  "language_info": {
   "codemirror_mode": {
    "name": "ipython",
    "version": 3
   },
   "file_extension": ".py",
   "mimetype": "text/x-python",
   "name": "python",
   "nbconvert_exporter": "python",
   "pygments_lexer": "ipython3",
   "version": "3.13.5"
  }
 },
 "nbformat": 4,
 "nbformat_minor": 5
}
